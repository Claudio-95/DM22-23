{
 "cells": [
  {
   "cell_type": "markdown",
   "id": "638aac99",
   "metadata": {},
   "source": [
    "# Data mining project 22/23"
   ]
  },
  {
   "cell_type": "markdown",
   "id": "3efa2bbe",
   "metadata": {},
   "source": [
    "## Import libraries"
   ]
  },
  {
   "cell_type": "code",
   "execution_count": 1,
   "id": "c0ca08cf",
   "metadata": {},
   "outputs": [],
   "source": [
    "import os\n",
    "os.environ[\"OMP_NUM_THREADS\"] = \"10\" # to avoid possible memory leak with KMeans"
   ]
  },
  {
   "cell_type": "code",
   "execution_count": null,
   "id": "e98f436a",
   "metadata": {},
   "outputs": [],
   "source": [
    "import pandas as pd\n",
    "import numpy as np\n",
    "import matplotlib.pyplot as plt\n",
    "import seaborn as sns\n",
    "# zscore\n",
    "from scipy.stats import zscore\n",
    "# kmeans, bisecting kmeans, dbscan, hierarchical (sklearn)\n",
    "from sklearn.cluster import KMeans, BisectingKMeans, DBSCAN, AgglomerativeClustering\n",
    "# scaling, normalization\n",
    "from sklearn.preprocessing import StandardScaler, MinMaxScaler\n",
    "# distance matrix (dbscan elbow, hierarchical)\n",
    "from scipy.spatial.distance import pdist, squareform\n",
    "# hierarchical (scipy)\n",
    "from scipy.cluster.hierarchy import linkage, dendrogram"
   ]
  },
  {
   "cell_type": "markdown",
   "id": "6c7488b4",
   "metadata": {},
   "source": [
    "## Theory"
   ]
  },
  {
   "cell_type": "markdown",
   "id": "1bb05907",
   "metadata": {},
   "source": [
    "To understand first each variable, let's review some audio concepts:\n",
    "\n",
    "The Ryerson Audio-Visual database of Emotional Speech and Song has the following variables: \n",
    "A **sample** of an audio is a portion of an audio's wave in certain (small) interval.\n",
    "\n",
    "The **sample rate** is the number of samples taken per second. This is a frequency and it is measured in kilohertz (kHz). Remember that the more often you take samples of the original audio, the closer to the original you can get.\n",
    "\n",
    "For understanding the difference between sample and frame take into consideration these formulas:\n",
    "\n",
    "* Sample rate = number of samples / second\n",
    "* Frame = 1 sample from each channel (PCM)\n",
    "* Frame Size = Sample size * Channels\n",
    "* Frame Rate = frames / second\n",
    "\n",
    "For PCM, which is a digital representation of an analog signal, the sample rate and the frame rate are the same since a frame consists of a a sample from each channel.\n",
    "\n",
    "The sample size is the size of an individual sample, also called **Bit Depth** or **Sample Width**, and it indicates how many byte of information a sample contains. (This is one important factor in the quality/resolution of the audio).\n",
    "\n",
    "An **audio channel** is the path via a signal or data is delivered, i.e, it's where a sound signal is conveyed from the player source to the speaker. For one channel we talk about **mono**, and several channels we refer to **stereo**.  For instance, in stereo sound, there are two audio sources: one speaker on the left, and one on the right. Each of these is represented by one channel.\n",
    "\n",
    "An **audio frame** is a data record that contains the samples of all the channels available in an audio signal to the same point in time.\n",
    "\n",
    "The **zero-crossing rate** is the rate at which a signal changes from positive to zero or negative, and from negative to zero or positive. It's a measure of the smoothness of the signal. The zero-crossing rate can be utilized as a basic pitch detection algorithm for monophonic tonal signals and is a key feature to classify percussive sounds.\n",
    "\n",
    "**Mel-Frequency Cepstral Coefficients** is a small set of features (usually about 10-20) which concisely describe the overall shape of a spectral envelope.\n",
    "\n",
    "**Spectral Centroid** indicates where the center of mass of the spectrum is located, and it is a good predictor of the 'brightness' of a sound, which depends on distribution of total power between high and low frequencies. Also can be seen as the amplitude-weighted mean of several frequency components.\n",
    "\n",
    "**stft chromagram**: applying the Fourier transform, which is used to convert a time-dependent signal to a frequency-dependent signal, to local sections of an audio signal, one obtains the short-time Fourier transform (STFT). The Chroma feature or chromagram of an audio represents the intensity of the twelve distinctive pitch classes that are used to study music.\n",
    "\n",
    "* 'Modality': media file types (audio-only).\n",
    "* 'Actor' and 'Sex': corresponding identifier of the actor (01 to 24) and its sex (M of F).\n",
    "* 'statement': phrase repeated by the actors (\"Kids are talking by the door\", \"Dogs are sitting by the door\").\n",
    "* 'repetition': number of repetitions (1st repetition, 2nd repetition).\n",
    "* 'vocal chanel': type of channel (speech or song).\n",
    "* 'Emotion': the emotion of the speaker (neutral, calm, happy, sad, angry, fearful, disgust, surprised).\n",
    "* 'Emotional intensity': level of emotion of each expression (normal, strong). NOTE: There is no strong intensity for the 'neutral' emotion.\n",
    "* sample_width: number of bytes of storage needed to save the sample (1 means 8-bit, 2 means 16-bit).\n",
    "* frame_rate: frequency of samples used (in Hertz).\n",
    "* frame_width: Number of bytes for each frame. One frame contains a sample for each channel.\n",
    "* length_ms: audio file length in milliseconds.\n",
    "* frame_count: number of frames from the sample.\n",
    "* intensity: loudness in dBFS, which is dB relative to the maximum possible loudness.\n",
    "* zero_crossings_sum: sum of the zero-crossing rate.\n",
    "* 'mean', 'std', 'min', 'max', 'kur', 'skew': statistics of the original audio signal.\n",
    "* mfcc_ 'mean', 'std', 'min', 'max': statistics of the Mel-Frequency Cepstral Coefficients.\n",
    "* sc_ 'mean', 'std', 'min', 'max', 'kur', 'skew': statistics of the spectral centroid.\n",
    "* stft_ 'mean', 'std', 'min', 'max', 'kur', 'skew': statistics of the stft chromagram.\n",
    "\n",
    "Measures to understand the shape of the data:\n",
    "**Skewness** (skew) measures the symmetry of the distribution\n",
    "\n",
    "**Kurtosis** (kur) measures the heaviness of the distribution tails, i.e., provides an indication of the presence of outliers."
   ]
  },
  {
   "cell_type": "markdown",
   "id": "8148e902",
   "metadata": {},
   "source": [
    "### Data semantics"
   ]
  },
  {
   "cell_type": "markdown",
   "id": "07939c88",
   "metadata": {},
   "source": [
    "## Classification of the variables\n",
    "* **Nominal/Categorical:** actor, sex, modality, statement, repetition, vocal channel, emotion.\n",
    "* **Ordinal:**  emotional intensity.\n",
    "* **Numeric:**   /\n",
    "* **Ratio-Scaled:** lenght_ms, zero_crossings_sum, frame_rate, frame_width, sample_width, stft_mean, stft_std, stft_min, stft_max, stft_kur, stft_skew, sc_mean, sc_std, sc_min, sc_max, sc_kur, sc_skew, mfcc_mean, mfcc_std, mfcc_min, mfcc_max, 'std', 'min', 'max', 'kur', 'skew'."
   ]
  },
  {
   "cell_type": "markdown",
   "id": "ec1ad89b",
   "metadata": {},
   "source": [
    "The classification of variables depends on the real data?\n",
    "**The data contained in the dataset are enough.**\n",
    "\n",
    "What does characteristics of variables mean? It's just about the classification and the domain?\n",
    "**Charateristics mean std, means, medians, if it's continous or categorical, etc.**\n",
    "\n",
    "For emotion, is it nominal or ordinal? What about partial ordered sets?\n",
    "**Emotion is nominal and partial order sets we take like they are not ordered.**"
   ]
  },
  {
   "cell_type": "markdown",
   "id": "735ccc7d",
   "metadata": {},
   "source": [
    "Possible tuples of features we can analyze:\n",
    "\n",
    "* EI with SW (sample width, I don't know if it does make sense, SW has always 2 as value)\n",
    "\n",
    "\n",
    "**Distributions in Claudio's notebook**:\n",
    "* emotion x sex (s/c)\n",
    "* emotion x intensity (box plot)\n",
    "* emotion (pie chart - histo)\n",
    "* audio length (hist)\n",
    "* vocal channel x sex (stacked chart)\n",
    "* sex with  emotional intensity (EI)\n",
    "* SW - Frame Width (it doesn't make sense, SW has always the same value and frame width has almost always the same value)\n",
    "* Frame rate - ZC (it doesn't make sense, frame rate has always the same value)\n",
    "* Frame count - ZC\n",
    "* Length_ms - Frame count\n",
    "* EI with statement (stat), length, intensity (I), Zero-crossing sum (ZC)\n",
    "\n",
    "**Tasks for next meeting**\n",
    "1. To understand the meaning of each variable.\n",
    "2. To think about the characteristics of each variable, for instance _what does it means that a sc_skew is higher or smaller than the others?_\n",
    "3. If you have time, to think about the statistical analysis we can associate to pairs of variables.\n"
   ]
  },
  {
   "cell_type": "markdown",
   "id": "4a88c519",
   "metadata": {},
   "source": [
    "## Data understanding and preparation"
   ]
  },
  {
   "cell_type": "code",
   "execution_count": null,
   "id": "2752a95d",
   "metadata": {},
   "outputs": [],
   "source": [
    "df = pd.read_csv(\"ravdess_features.csv\") # read csv file (dataset)"
   ]
  },
  {
   "cell_type": "code",
   "execution_count": null,
   "id": "fd6b2f65",
   "metadata": {},
   "outputs": [],
   "source": [
    "df"
   ]
  },
  {
   "cell_type": "code",
   "execution_count": null,
   "id": "542e3162",
   "metadata": {},
   "outputs": [],
   "source": [
    "df.shape # shape of dataset (rows, columns)"
   ]
  },
  {
   "cell_type": "code",
   "execution_count": null,
   "id": "d1de7472",
   "metadata": {
    "scrolled": false
   },
   "outputs": [],
   "source": [
    "df.iloc[0]"
   ]
  },
  {
   "cell_type": "code",
   "execution_count": null,
   "id": "7869c6a5",
   "metadata": {},
   "outputs": [],
   "source": [
    "df.describe().round(2) # some descriptive statistics"
   ]
  },
  {
   "cell_type": "code",
   "execution_count": null,
   "id": "5fe78ab9",
   "metadata": {},
   "outputs": [],
   "source": [
    "df.T"
   ]
  },
  {
   "cell_type": "code",
   "execution_count": null,
   "id": "957728ff",
   "metadata": {},
   "outputs": [],
   "source": [
    "df[\"stft_mean\"].describe()"
   ]
  },
  {
   "cell_type": "code",
   "execution_count": null,
   "id": "46a4b4d3",
   "metadata": {},
   "outputs": [],
   "source": [
    "nunique = df.nunique()\n",
    "nunique"
   ]
  },
  {
   "cell_type": "code",
   "execution_count": null,
   "id": "7ed83e52",
   "metadata": {},
   "outputs": [],
   "source": [
    "to_delete = []\n",
    "for key, value in nunique.items():\n",
    "    if(value == 1):\n",
    "        print(\"To delete: \", key)\n",
    "        to_delete.append(key)\n",
    "    if(value > 1 and value < 100):\n",
    "        print(\"To evaluate: \", key)"
   ]
  },
  {
   "cell_type": "code",
   "execution_count": null,
   "id": "5a16f818",
   "metadata": {},
   "outputs": [],
   "source": [
    "df = df.drop(columns=to_delete)"
   ]
  },
  {
   "cell_type": "code",
   "execution_count": null,
   "id": "33de1fec",
   "metadata": {},
   "outputs": [],
   "source": [
    "df.shape"
   ]
  },
  {
   "cell_type": "code",
   "execution_count": null,
   "id": "dbdf4256",
   "metadata": {},
   "outputs": [],
   "source": [
    "df[\"emotion\"].unique()"
   ]
  },
  {
   "cell_type": "code",
   "execution_count": null,
   "id": "3d220012",
   "metadata": {},
   "outputs": [],
   "source": [
    "def get_emotion_positivity(x):\n",
    "    if(x == 'fearful' or x == 'angry' or x =='sad' or x == 'disgust'):\n",
    "        return -1;\n",
    "    if(x == 'happy' or x == 'surprised'): # is calm positive?\n",
    "        return 1;\n",
    "    return 0;\n",
    "\n",
    "df[\"emotion_positivity\"] = df[\"emotion\"].map(get_emotion_positivity)\n",
    "df[\"emotion_positivity\"]"
   ]
  },
  {
   "cell_type": "code",
   "execution_count": null,
   "id": "556f486b",
   "metadata": {},
   "outputs": [],
   "source": [
    "print(\"Emotion positivity mean:\", df[\"emotion_positivity\"].mean())\n",
    "print(\"Emotion positivity std:\", df[\"emotion_positivity\"].std())"
   ]
  },
  {
   "cell_type": "code",
   "execution_count": null,
   "id": "12456a76",
   "metadata": {},
   "outputs": [],
   "source": [
    "df[\"length\"] = df[\"length_ms\"] / 1000\n",
    "df = df.drop(columns=[\"length_ms\"])"
   ]
  },
  {
   "cell_type": "code",
   "execution_count": null,
   "id": "372fda11",
   "metadata": {},
   "outputs": [],
   "source": [
    "df[\"zero_crossings_sum\"]"
   ]
  },
  {
   "cell_type": "code",
   "execution_count": null,
   "id": "930c7815",
   "metadata": {},
   "outputs": [],
   "source": [
    "df[\"zero_crossings_rate\"] = df[\"zero_crossings_sum\"] / df[\"length\"]\n",
    "df[\"zero_crossings_rate\"]"
   ]
  },
  {
   "cell_type": "code",
   "execution_count": null,
   "id": "cc7ee6b4",
   "metadata": {},
   "outputs": [],
   "source": [
    "df = df.drop(columns=[\"zero_crossings_sum\"])"
   ]
  },
  {
   "cell_type": "markdown",
   "id": "041d83a5",
   "metadata": {},
   "source": [
    "### MFCC statistics"
   ]
  },
  {
   "cell_type": "code",
   "execution_count": null,
   "id": "8efdb695",
   "metadata": {},
   "outputs": [],
   "source": [
    "max_mfccMean = df[\"mfcc_mean\"].max()\n",
    "min_mfccMean = df[\"mfcc_mean\"].min()\n",
    "max_mfccStd = df[\"mfcc_std\"].max()\n",
    "min_mfccStd = df[\"mfcc_std\"].min()\n",
    "min_mfccMin = df[\"mfcc_min\"].min()\n",
    "max_mfccMax = df[\"mfcc_max\"].max()\n",
    "print(\"Max value of mfcc_mean is: \", round(max_mfccMean, 2))\n",
    "print(\"Min value of mfcc_mean is: \", round(min_mfccMean, 2))\n",
    "print(\"Max value of mfcc_std is: \", round(max_mfccStd, 2))\n",
    "print(\"Min value of mfcc_std is: \", round(min_mfccStd, 2))\n",
    "print(\"Min value of mfcc_min is: \", round(min_mfccMin, 2))\n",
    "print(\"Max value of mfcc_max is: \", round(max_mfccMax, 2))"
   ]
  },
  {
   "cell_type": "markdown",
   "id": "594d476c",
   "metadata": {},
   "source": [
    "### SC statistics"
   ]
  },
  {
   "cell_type": "code",
   "execution_count": null,
   "id": "a2bd9cd3",
   "metadata": {},
   "outputs": [],
   "source": [
    "max_scMean = df[\"sc_mean\"].max()\n",
    "min_scMean = df[\"sc_mean\"].min()\n",
    "max_scStd = df[\"sc_std\"].max()\n",
    "min_scStd = df[\"sc_std\"].min()\n",
    "min_scMin = df[\"sc_min\"].min()\n",
    "max_scMax = df[\"sc_max\"].max()\n",
    "max_scKur = df[\"sc_kur\"].max()\n",
    "min_scKur = df[\"sc_kur\"].min()\n",
    "max_scSkew = df[\"sc_skew\"].max()\n",
    "min_scSkew = df[\"sc_skew\"].min()\n",
    "print(\"Max value of sc_mean is: \", round(max_scMean, 2))\n",
    "print(\"Min value of sc_mean is: \", round(min_scMean, 2))\n",
    "print(\"Max value of sc_std is: \", round(max_scStd, 2))\n",
    "print(\"Min value of sc_std is: \", round(min_scStd, 2))\n",
    "print(\"Min value of sc_min is: \", round(min_scMin, 2))\n",
    "print(\"Max value of sc_max is: \", round(max_scMax, 2))\n",
    "print(\"Max value of sc_kur is: \", round(max_scKur, 2))\n",
    "print(\"Min value of sc_kur is: \", round(min_scKur, 2))\n",
    "print(\"Max value of sc_skew is: \", round(max_scSkew, 2))\n",
    "print(\"Min value of sc_skew is: \", round(min_scSkew, 2))"
   ]
  },
  {
   "cell_type": "markdown",
   "id": "6f1bb3e9",
   "metadata": {},
   "source": [
    "### STFT chromagram statistics"
   ]
  },
  {
   "cell_type": "code",
   "execution_count": null,
   "id": "f9ff7f47",
   "metadata": {},
   "outputs": [],
   "source": [
    "max_stftMean = df[\"stft_mean\"].max()\n",
    "min_stftMean = df[\"stft_mean\"].min()\n",
    "max_stftStd = df[\"stft_std\"].max()\n",
    "min_stftStd = df[\"stft_std\"].min()\n",
    "min_stftMin = df[\"stft_min\"].min()\n",
    "#max_stftMax = df[\"stft_max\"].max()\n",
    "max_stftKur = df[\"stft_kur\"].max()\n",
    "min_stftKur = df[\"stft_kur\"].min()\n",
    "max_stftSkew = df[\"stft_skew\"].max()\n",
    "min_stftSkew = df[\"stft_skew\"].min()\n",
    "print(\"Max value of stft_mean is: \", round(max_stftMean, 2))\n",
    "print(\"Min value of stft_mean is: \", round(min_stftMean, 2))\n",
    "print(\"Max value of stft_std is: \", round(max_stftStd, 2))\n",
    "print(\"Min value of stft_std is: \", round(min_stftStd, 2))\n",
    "print(\"Min value of stft_min is: \", round(min_stftMin, 2))\n",
    "#print(\"Max value of stft_max is: \", round(max_stftMax, 2))\n",
    "print(\"Max value of stft_kur is: \", round(max_stftKur, 2))\n",
    "print(\"Min value of stft_kur is: \", round(min_stftKur, 2))\n",
    "print(\"Max value of stft_skew is: \", round(max_stftSkew, 2))\n",
    "print(\"Min value of stft_skew is: \", round(min_stftSkew, 2))"
   ]
  },
  {
   "cell_type": "markdown",
   "id": "923f2c6c",
   "metadata": {},
   "source": [
    "### Checking synctactic accuracy"
   ]
  },
  {
   "cell_type": "markdown",
   "id": "9c5a8ce2",
   "metadata": {},
   "source": [
    "In this way we check if there are some strange values or entries that are not in the domain. At the same time, we check the mode of each variable. As result, we find that all nominal/categorical and ordinal variables values seems to be synctactically accurate."
   ]
  },
  {
   "cell_type": "markdown",
   "id": "5b4f8132",
   "metadata": {},
   "source": [
    "### Checking semantic accuracy"
   ]
  },
  {
   "cell_type": "code",
   "execution_count": null,
   "id": "14dd4028",
   "metadata": {},
   "outputs": [],
   "source": [
    "actors = df[[\"actor\", \"sex\"]]\n",
    "actors.value_counts()"
   ]
  },
  {
   "cell_type": "code",
   "execution_count": null,
   "id": "a48d9b2b",
   "metadata": {},
   "outputs": [],
   "source": [
    "emo_EI = df[[\"emotion\", \"emotional_intensity\"]]\n",
    "emo_EI.value_counts()"
   ]
  },
  {
   "cell_type": "markdown",
   "id": "159f5012",
   "metadata": {},
   "source": [
    "We check if there are some semantic inconsistencies in the couples actor-sex (for instance duplicate actors with different sex) and emotion-emotional_intensity (there must be no _strong_ emotional_intensity values with _neutral_ emotion values). There seems to be no semantic inconsistencies."
   ]
  },
  {
   "cell_type": "markdown",
   "id": "23403537",
   "metadata": {},
   "source": [
    "### NaN values"
   ]
  },
  {
   "cell_type": "code",
   "execution_count": null,
   "id": "7384042d",
   "metadata": {},
   "outputs": [],
   "source": [
    "df.isna().sum()"
   ]
  },
  {
   "cell_type": "markdown",
   "id": "7ffcc23a",
   "metadata": {},
   "source": [
    "In this way we check if there are NaN values (missing values) and how many they are."
   ]
  },
  {
   "cell_type": "code",
   "execution_count": null,
   "id": "392369b3",
   "metadata": {},
   "outputs": [],
   "source": [
    "(df == 0).sum() # doing with \"0\" or 0.0 doesn't change anything"
   ]
  },
  {
   "cell_type": "markdown",
   "id": "4e4e7cc8",
   "metadata": {},
   "source": [
    "### Charts and relations"
   ]
  },
  {
   "cell_type": "code",
   "execution_count": null,
   "id": "3f2b4c17",
   "metadata": {},
   "outputs": [],
   "source": [
    "emotion_sex = pd.crosstab(df[\"sex\"], df[\"emotion\"])\n",
    "emotion_sex"
   ]
  },
  {
   "cell_type": "code",
   "execution_count": null,
   "id": "1e12d5f9",
   "metadata": {},
   "outputs": [],
   "source": [
    "sns.set_context(\"notebook\", font_scale = 1.1, rc = {\"font.size\": 16, \"axes.titlesize\": 16, \"axes.labelsize\": 16}) # set the\n",
    "# context of chart, in this case this is a notebook, and some other size and scale\n",
    "plt.rcParams[\"figure.figsize\"] = [15, 10] # it configures the size of chart (x and y axes)\n",
    "\n",
    "# stacked chart of vocal channel per sex\n",
    "emotion_sex.plot(kind=\"bar\", stacked = True)\n",
    "plt.title(\"Distribution of emotion per sex\")\n",
    "plt.xlabel(\"Sex\")\n",
    "plt.ylabel(\"Count\")\n",
    "plt.xticks(rotation = 0)\n",
    "#plt.savefig(\"stacked_vocalChannel.png\") # it saves the chart as .png image\n",
    "plt.show()"
   ]
  },
  {
   "cell_type": "code",
   "execution_count": null,
   "id": "d51a00e3",
   "metadata": {},
   "outputs": [],
   "source": [
    "sns.set_context(\"notebook\", font_scale = 1.1, rc = {\"font.size\": 16, \"axes.titlesize\": 16, \"axes.labelsize\": 16}) # set the\n",
    "# context of chart, in this case this is a notebook, and some other size and scale\n",
    "plt.rcParams[\"figure.figsize\"] = [15, 10] # it configures the size of chart (x and y axes)\n",
    "\n",
    "# stacked chart of vocal channel per sex\n",
    "emotion_sex.plot(kind=\"bar\", stacked = False)\n",
    "plt.title(\"Distribution of emotion per sex\")\n",
    "plt.xlabel(\"Sex\")\n",
    "plt.ylabel(\"Count\")\n",
    "plt.xticks(rotation = 0)\n",
    "#plt.savefig(\"stacked_vocalChannel.png\") # it saves the chart as .png image\n",
    "plt.show()"
   ]
  },
  {
   "cell_type": "code",
   "execution_count": null,
   "id": "ba37cad2",
   "metadata": {},
   "outputs": [],
   "source": [
    "vocal_channel = pd.crosstab(df[\"sex\"], df[\"vocal_channel\"])\n",
    "vocal_channel"
   ]
  },
  {
   "cell_type": "code",
   "execution_count": null,
   "id": "d5ebd183",
   "metadata": {},
   "outputs": [],
   "source": [
    "# stacked chart of vocal channel per sex\n",
    "vocal_channel.plot(kind=\"bar\", stacked = True)\n",
    "plt.title(\"Distribution of vocal channel per sex\")\n",
    "plt.xlabel(\"Sex\")\n",
    "plt.ylabel(\"Count\")\n",
    "plt.xticks(rotation = 0)\n",
    "#plt.savefig(\"stacked_vocalChannel.png\") # it saves the chart as .png image\n",
    "plt.show()"
   ]
  },
  {
   "cell_type": "code",
   "execution_count": null,
   "id": "0bb6e99c",
   "metadata": {},
   "outputs": [],
   "source": [
    "sns.boxplot(x = \"emotion\", y = \"intensity\", data = df)\n",
    "plt.title(\"Emotion per intensity\")\n",
    "plt.xlabel(\"Emotion\")\n",
    "plt.ylabel(\"Intensity\")\n",
    "#plt.savefig(\"boxplot_emotionIntensity.png\")\n",
    "plt.show()"
   ]
  },
  {
   "cell_type": "code",
   "execution_count": null,
   "id": "94b7b5ac",
   "metadata": {},
   "outputs": [],
   "source": [
    "sizes = df[\"emotion\"].value_counts()\n",
    "labels = df[\"emotion\"].unique()"
   ]
  },
  {
   "cell_type": "code",
   "execution_count": null,
   "id": "ae60c060",
   "metadata": {},
   "outputs": [],
   "source": [
    "plt.pie(sizes, labels = labels, autopct = '%1.1f%%', shadow = False, startangle = 180, textprops = {'fontsize': 13})\n",
    "plt.title(\"Emotion distribution\")\n",
    "plt.tight_layout() # it fixes padding around the chart\n",
    "#plt.savefig(\"pie_emotion.png\")\n",
    "plt.show()"
   ]
  },
  {
   "cell_type": "code",
   "execution_count": null,
   "id": "0736a7db",
   "metadata": {},
   "outputs": [],
   "source": [
    "sns.histplot(df[\"length\"])\n",
    "plt.title(\"Distribution of audio length\")\n",
    "plt.xlabel(\"Audio length\")\n",
    "plt.ylabel(\"Count\")\n",
    "plt.axvline(df['length'].mean(), color = \"k\", linestyle = \"--\") # mean (black dotted line)\n",
    "plt.axvline(df['length'].median(), color = \"r\", linestyle = \"--\") # median (red dotted line)\n",
    "plt.tight_layout()\n",
    "#plt.savefig(\"histplot_lenghtms.png\")\n",
    "plt.show()"
   ]
  },
  {
   "cell_type": "code",
   "execution_count": null,
   "id": "d31758ec",
   "metadata": {},
   "outputs": [],
   "source": [
    "emoInt_sex = pd.crosstab(df[\"sex\"], df[\"emotional_intensity\"])\n",
    "emoInt_sex"
   ]
  },
  {
   "cell_type": "code",
   "execution_count": null,
   "id": "8b5b7075",
   "metadata": {},
   "outputs": [],
   "source": [
    "# stacked chart of emotional intensity per sex\n",
    "emoInt_sex.plot(kind=\"bar\", stacked = True)\n",
    "plt.title(\"Distribution of emotional intensity per sex\")\n",
    "plt.xlabel(\"Sex\")\n",
    "plt.ylabel(\"Count\")\n",
    "plt.xticks(rotation = 0)\n",
    "#plt.savefig(\"stacked_vocalChannel.png\") # it saves the chart as .png image\n",
    "plt.show()"
   ]
  },
  {
   "cell_type": "code",
   "execution_count": null,
   "id": "922a2868",
   "metadata": {},
   "outputs": [],
   "source": [
    "sns.regplot(x = \"frame_count\", y = \"zero_crossings_rate\", fit_reg = False, data = df)\n",
    "plt.title(\"Frame count per Zero crossings sum\")\n",
    "plt.xlabel(\"Frame count\")\n",
    "plt.ylabel(\"Zero crossings sum\")\n",
    "#plt.savefig(\"scatter_fc-zcs.png\")\n",
    "plt.show()"
   ]
  },
  {
   "cell_type": "markdown",
   "id": "559eef75",
   "metadata": {},
   "source": [
    "Here we can notice a missing frame count or uncorrect entries, because there are some 0 values on _frame count_ axis.\n",
    "\n",
    "**Calculate the outliers with interpolation.**"
   ]
  },
  {
   "cell_type": "code",
   "execution_count": null,
   "id": "65b18364",
   "metadata": {},
   "outputs": [],
   "source": [
    "sns.regplot(x = \"length\", y = \"frame_count\", fit_reg = False, data = df)\n",
    "plt.title(\"Length in ms per frame count\")\n",
    "plt.xlabel(\"Length (in ms)\")\n",
    "plt.ylabel(\"Frame count\")\n",
    "#plt.savefig(\"scatter_lms-fc.png\")\n",
    "plt.show()"
   ]
  },
  {
   "cell_type": "code",
   "execution_count": null,
   "id": "5ee4dcee",
   "metadata": {},
   "outputs": [],
   "source": [
    "df = df.drop(columns=[\"frame_count\"])"
   ]
  },
  {
   "cell_type": "markdown",
   "id": "5f2e35fb",
   "metadata": {},
   "source": [
    "Also here we can see there are some uncorrect or missing values on _frame count_ axis.\n",
    "\n",
    "**Calculate the outliers with interpolation.**"
   ]
  },
  {
   "cell_type": "code",
   "execution_count": null,
   "id": "83ff5168",
   "metadata": {},
   "outputs": [],
   "source": [
    "EI_stat = pd.crosstab(df[\"emotional_intensity\"], df[\"statement\"])\n",
    "EI_stat"
   ]
  },
  {
   "cell_type": "code",
   "execution_count": null,
   "id": "27f6cc3d",
   "metadata": {},
   "outputs": [],
   "source": [
    "EI_stat.plot(kind=\"bar\", stacked = True)\n",
    "plt.title(\"Distribution of emotional intensity per statement\")\n",
    "plt.xlabel(\"Emotional intensity\")\n",
    "plt.ylabel(\"Statement\")\n",
    "plt.xticks(rotation = 0)\n",
    "#plt.savefig(\"stacked_EI-stat.png\")\n",
    "plt.show()"
   ]
  },
  {
   "cell_type": "code",
   "execution_count": null,
   "id": "9e3286c0",
   "metadata": {},
   "outputs": [],
   "source": [
    "sns.boxplot(x = \"emotional_intensity\", y = \"length\", data = df)\n",
    "plt.title(\"Emotional intensity per length\")\n",
    "plt.xlabel(\"Emotional intensity\")\n",
    "plt.ylabel(\"Length\")\n",
    "#plt.savefig(\"boxplot_EI-length.png\")\n",
    "plt.show()"
   ]
  },
  {
   "cell_type": "code",
   "execution_count": null,
   "id": "a4358a43",
   "metadata": {},
   "outputs": [],
   "source": [
    "sns.boxplot(x = \"emotional_intensity\", y = \"intensity\", data = df)\n",
    "plt.title(\"Emotional intensity per intensity\")\n",
    "plt.xlabel(\"Emotional intensity\")\n",
    "plt.ylabel(\"Intensity\")\n",
    "#plt.savefig(\"boxplot_EI-intensity.png\")\n",
    "plt.show()"
   ]
  },
  {
   "cell_type": "code",
   "execution_count": null,
   "id": "9088deb9",
   "metadata": {},
   "outputs": [],
   "source": [
    "sns.boxplot(x = \"emotional_intensity\", y = \"zero_crossings_rate\", data = df)\n",
    "plt.title(\"Emotional intensity per zero crossings sum\")\n",
    "plt.xlabel(\"Emotional intensity\")\n",
    "plt.ylabel(\"zero crossings sum\")\n",
    "#plt.savefig(\"boxplot_EI-ZCS.png\")\n",
    "plt.show()"
   ]
  },
  {
   "cell_type": "code",
   "execution_count": null,
   "id": "7f9096f9",
   "metadata": {},
   "outputs": [],
   "source": [
    "plt.hist(df.emotion)\n",
    "plt.show()"
   ]
  },
  {
   "cell_type": "code",
   "execution_count": null,
   "id": "4ec84585",
   "metadata": {},
   "outputs": [],
   "source": [
    "em_intensity_em = pd.crosstab(df[\"emotion\"],df[\"emotional_intensity\"])\n",
    "em_intensity_em.plot(kind=\"bar\", stacked = True)\n",
    "plt.show()"
   ]
  },
  {
   "cell_type": "code",
   "execution_count": null,
   "id": "0bdab5b0",
   "metadata": {},
   "outputs": [],
   "source": [
    "df['statement'] = df['statement'].replace(['Dogs are sitting by the door'], '0')\n",
    "df['statement'] = df['statement'].replace(['Kids are talking by the door'], '1')"
   ]
  },
  {
   "cell_type": "code",
   "execution_count": null,
   "id": "c66f2327",
   "metadata": {},
   "outputs": [],
   "source": [
    "em_stat = pd.crosstab(df.emotion,df.statement)\n",
    "em_stat.plot(kind = 'bar', stacked = True)\n",
    "plt.show()"
   ]
  },
  {
   "cell_type": "code",
   "execution_count": null,
   "id": "37030940",
   "metadata": {},
   "outputs": [],
   "source": [
    "em_sex = pd.crosstab(df.emotion,df.sex)\n",
    "em_sex.plot(kind=\"bar\",stacked = True)\n",
    "plt.show()"
   ]
  },
  {
   "cell_type": "code",
   "execution_count": null,
   "id": "6bffd362",
   "metadata": {},
   "outputs": [],
   "source": [
    "sns.boxplot(x = \"emotional_intensity\", y = \"mfcc_min\", data = df)\n",
    "plt.title(\"Emotional intensity per minimum mfcc\")\n",
    "plt.xlabel(\"Emotional intensity\")\n",
    "plt.ylabel(\"Minimum mfcc\")\n",
    "#plt.savefig(\"boxplot_EI-minMFCC.png\")\n",
    "plt.show()"
   ]
  },
  {
   "cell_type": "code",
   "execution_count": null,
   "id": "e50b6188",
   "metadata": {},
   "outputs": [],
   "source": [
    "sns.boxplot(x = \"sex\", y = \"stft_mean\", data = df)\n",
    "plt.title(\"stft_mean per sex\")\n",
    "plt.xlabel(\"Sex\")\n",
    "plt.ylabel(\"Stft mean\")\n",
    "#plt.savefig(\"boxplot_EI-minMFCC.png\")\n",
    "plt.show()"
   ]
  },
  {
   "cell_type": "code",
   "execution_count": null,
   "id": "be3589e3",
   "metadata": {},
   "outputs": [],
   "source": [
    "sns.regplot(x = \"length\", y = \"zero_crossings_rate\", fit_reg = False, data = df)\n",
    "plt.title(\"Length per Zero crossings sum\")\n",
    "plt.xlabel(\"Length\")\n",
    "plt.ylabel(\"Zero crossings sum\")\n",
    "#plt.savefig(\"scatter_fc-zcs.png\")\n",
    "plt.show()"
   ]
  },
  {
   "cell_type": "code",
   "execution_count": null,
   "id": "b6d65a79",
   "metadata": {},
   "outputs": [],
   "source": [
    "density = df[\"mean\"].plot.density(color='green')"
   ]
  },
  {
   "cell_type": "code",
   "execution_count": null,
   "id": "c7819c56",
   "metadata": {},
   "outputs": [],
   "source": [
    "df[\"std\"].plot.kde(color='green')\n",
    "plt.show()"
   ]
  },
  {
   "cell_type": "code",
   "execution_count": null,
   "id": "b7b4b000",
   "metadata": {},
   "outputs": [],
   "source": [
    "df[\"min\"].plot.kde(color='green')\n",
    "plt.show()"
   ]
  },
  {
   "cell_type": "code",
   "execution_count": null,
   "id": "45bd8e36",
   "metadata": {},
   "outputs": [],
   "source": [
    "#plt.scatter(df[\"max\"],df[\"stft_max\"])\n",
    "#plt.show()"
   ]
  },
  {
   "cell_type": "code",
   "execution_count": null,
   "id": "bcfc8d51",
   "metadata": {},
   "outputs": [],
   "source": [
    "plt.scatter(df[\"max\"],df[\"sc_max\"])\n",
    "plt.show()"
   ]
  },
  {
   "cell_type": "code",
   "execution_count": null,
   "id": "c0c6bc1a",
   "metadata": {},
   "outputs": [],
   "source": [
    "plt.scatter(df[\"length\"],df[\"sc_max\"])\n",
    "plt.show()"
   ]
  },
  {
   "cell_type": "code",
   "execution_count": null,
   "id": "272c0c12",
   "metadata": {},
   "outputs": [],
   "source": [
    "plt.scatter(df[\"mfcc_mean\"],df[\"stft_skew\"])\n",
    "plt.show()"
   ]
  },
  {
   "cell_type": "code",
   "execution_count": null,
   "id": "04e719a6",
   "metadata": {},
   "outputs": [],
   "source": [
    "max_features = df[[\"max\",\"sc_max\"]]\n",
    "fig, ax = plt.subplots(1,1)\n",
    "for s in max_features.columns:\n",
    "    df[s].plot(kind='density')\n",
    "fig.show()"
   ]
  },
  {
   "cell_type": "code",
   "execution_count": null,
   "id": "ec51843b",
   "metadata": {},
   "outputs": [],
   "source": [
    "df[\"sc_max\"].plot.kde(color='green')\n",
    "plt.show()"
   ]
  },
  {
   "cell_type": "code",
   "execution_count": null,
   "id": "6a06ba92",
   "metadata": {},
   "outputs": [],
   "source": [
    "df[\"max\"].plot.kde(color='green')\n",
    "plt.show()"
   ]
  },
  {
   "cell_type": "code",
   "execution_count": null,
   "id": "4c2f0ea5",
   "metadata": {},
   "outputs": [],
   "source": [
    "df[\"zero_crossings_rate\"].plot.kde(color='green')\n",
    "plt.show()"
   ]
  },
  {
   "cell_type": "code",
   "execution_count": null,
   "id": "23584e9e",
   "metadata": {},
   "outputs": [],
   "source": [
    "df[\"intensity\"].plot.kde(color='green')\n",
    "plt.show()"
   ]
  },
  {
   "cell_type": "code",
   "execution_count": null,
   "id": "f5d36aaf",
   "metadata": {},
   "outputs": [],
   "source": [
    "skew_features = df[[\"sc_skew\",\"stft_skew\",\"skew\"]]\n",
    "fig, ax = plt.subplots(1,1)\n",
    "for s in skew_features.columns:\n",
    "    df[s].plot(kind='density')\n",
    "fig.show()"
   ]
  },
  {
   "cell_type": "code",
   "execution_count": null,
   "id": "4a0e2274",
   "metadata": {},
   "outputs": [],
   "source": [
    "kur_features = df[[\"sc_kur\",\"stft_kur\"]]\n",
    "fig, ax = plt.subplots(1,1)\n",
    "for s in kur_features.columns:\n",
    "    df[s].plot(kind='density')\n",
    "fig.show()"
   ]
  },
  {
   "cell_type": "code",
   "execution_count": null,
   "id": "6d75323a",
   "metadata": {},
   "outputs": [],
   "source": [
    "df[\"kur\"].plot.kde(color='green')\n",
    "plt.show()"
   ]
  },
  {
   "cell_type": "markdown",
   "id": "30a6eebb",
   "metadata": {},
   "source": [
    "Frame count: interpolation\n",
    "\n",
    "Missing values: \n",
    "Vocal channel...\n"
   ]
  },
  {
   "cell_type": "markdown",
   "id": "b3fdda0f",
   "metadata": {},
   "source": [
    "## Outliers - Single attribute"
   ]
  },
  {
   "cell_type": "markdown",
   "id": "821b4f54",
   "metadata": {},
   "source": [
    "**Definition of outliers computation**"
   ]
  },
  {
   "cell_type": "code",
   "execution_count": null,
   "id": "306e345b",
   "metadata": {},
   "outputs": [],
   "source": [
    "def outliers(variable) :\n",
    "    Q1 = df[variable].quantile(0.25, interpolation = 'linear')\n",
    "    Q3 = df[variable].quantile(0.75, interpolation = 'linear')\n",
    "    IQR = Q3 - Q1\n",
    "    Lowerfence = Q1 - 1.5*IQR\n",
    "    Upperfence = Q3 + 1.5*IQR\n",
    "    OUTLIERS = df.loc[(df[variable] < Lowerfence)  |  (df[variable] > Upperfence) ]\n",
    "    NORMAL_Spec = df.loc[(df[variable] > Lowerfence)  & (df[variable] < Upperfence) ]\n",
    "    return OUTLIERS[variable].round(2)"
   ]
  },
  {
   "cell_type": "code",
   "execution_count": null,
   "id": "94fc56f1",
   "metadata": {},
   "outputs": [],
   "source": [
    "sns.boxplot(x = \"length\", data = df)\n",
    "plt.title(\"Length (in ms)\")\n",
    "plt.xlabel(\"Lenght (in ms)\")\n",
    "#plt.savefig(\"boxplot_length.png\")\n",
    "plt.show()"
   ]
  },
  {
   "cell_type": "code",
   "execution_count": null,
   "id": "f2f27a29",
   "metadata": {},
   "outputs": [],
   "source": [
    "print(outliers(\"length\"))"
   ]
  },
  {
   "cell_type": "code",
   "execution_count": null,
   "id": "f65ff867",
   "metadata": {},
   "outputs": [],
   "source": [
    "sns.boxplot(x = \"zero_crossings_rate\", data = df)\n",
    "plt.title(\"zero_crossings_rate\")\n",
    "plt.xlabel(\"zero_crossings_rate\")\n",
    "#plt.savefig(\"boxplot_length.png\")\n",
    "plt.show()"
   ]
  },
  {
   "cell_type": "code",
   "execution_count": null,
   "id": "63c9f037",
   "metadata": {},
   "outputs": [],
   "source": [
    "sns.boxplot(x = \"frame_width\", data = df)\n",
    "plt.title(\"Frame width\")\n",
    "plt.xlabel(\"Frame width\")\n",
    "#plt.savefig(\"boxplot_frameWidth.png\")\n",
    "plt.show()"
   ]
  },
  {
   "cell_type": "code",
   "execution_count": null,
   "id": "b7d9b8ca",
   "metadata": {},
   "outputs": [],
   "source": [
    "print(outliers(\"frame_width\"))"
   ]
  },
  {
   "cell_type": "code",
   "execution_count": null,
   "id": "f3ea9581",
   "metadata": {},
   "outputs": [],
   "source": [
    "sns.boxplot(x = \"stft_mean\", data = df)\n",
    "plt.title(\"STFT mean\")\n",
    "plt.xlabel(\"STFT mean\")\n",
    "#plt.savefig(\"boxplot_stftMean.png\")\n",
    "plt.show()"
   ]
  },
  {
   "cell_type": "code",
   "execution_count": null,
   "id": "faf2af33",
   "metadata": {},
   "outputs": [],
   "source": [
    "print(outliers(\"stft_mean\"))"
   ]
  },
  {
   "cell_type": "code",
   "execution_count": null,
   "id": "dd8bbaa3",
   "metadata": {},
   "outputs": [],
   "source": [
    "sns.boxplot(x = \"stft_std\", data = df)\n",
    "plt.title(\"STFT std\")\n",
    "plt.xlabel(\"STFT std\")\n",
    "#plt.savefig(\"boxplot_stftSTD.png\")\n",
    "plt.show()"
   ]
  },
  {
   "cell_type": "code",
   "execution_count": null,
   "id": "e65aca60",
   "metadata": {},
   "outputs": [],
   "source": [
    "print(outliers(\"stft_std\"))"
   ]
  },
  {
   "cell_type": "code",
   "execution_count": null,
   "id": "9ee6a3c6",
   "metadata": {},
   "outputs": [],
   "source": [
    "sns.boxplot(x = \"stft_min\", data = df)\n",
    "plt.title(\"STFT min\")\n",
    "plt.xlabel(\"STFT min\")\n",
    "#plt.savefig(\"boxplot_stftMin.png\")\n",
    "plt.show()"
   ]
  },
  {
   "cell_type": "code",
   "execution_count": null,
   "id": "2e5da5c2",
   "metadata": {},
   "outputs": [],
   "source": [
    "print(outliers(\"stft_min\")) # if the output is too long to visualize look at the \"Length\" property"
   ]
  },
  {
   "cell_type": "code",
   "execution_count": null,
   "id": "954724bc",
   "metadata": {},
   "outputs": [],
   "source": [
    "sns.boxplot(x = \"stft_kur\", data = df)\n",
    "plt.title(\"STFT kurtosis\")\n",
    "plt.xlabel(\"STFT kurtosis\")\n",
    "#plt.savefig(\"boxplot_stftKur.png\")\n",
    "plt.show()"
   ]
  },
  {
   "cell_type": "code",
   "execution_count": null,
   "id": "3be138f3",
   "metadata": {},
   "outputs": [],
   "source": [
    "print(outliers(\"stft_kur\"))"
   ]
  },
  {
   "cell_type": "code",
   "execution_count": null,
   "id": "e10aecf0",
   "metadata": {},
   "outputs": [],
   "source": [
    "sns.boxplot(x = \"stft_skew\", data = df)\n",
    "plt.title(\"STFT skewness\")\n",
    "plt.xlabel(\"STFT skewness\")\n",
    "#plt.savefig(\"boxplot_stftSkew.png\")\n",
    "plt.show()"
   ]
  },
  {
   "cell_type": "code",
   "execution_count": null,
   "id": "09c015ef",
   "metadata": {},
   "outputs": [],
   "source": [
    "print(outliers(\"stft_skew\"))"
   ]
  },
  {
   "cell_type": "code",
   "execution_count": null,
   "id": "1039e4a8",
   "metadata": {},
   "outputs": [],
   "source": [
    "sns.boxplot(x = \"sc_mean\", data = df)\n",
    "plt.title(\"SC mean\")\n",
    "plt.xlabel(\"SC mean\")\n",
    "#plt.savefig(\"boxplot_scMean.png\")\n",
    "plt.show()"
   ]
  },
  {
   "cell_type": "code",
   "execution_count": null,
   "id": "a073f122",
   "metadata": {},
   "outputs": [],
   "source": [
    "print(outliers(\"sc_mean\"))"
   ]
  },
  {
   "cell_type": "code",
   "execution_count": null,
   "id": "b327adfd",
   "metadata": {},
   "outputs": [],
   "source": [
    "sns.boxplot(x = \"sc_std\", data = df)\n",
    "plt.title(\"SC std\")\n",
    "plt.xlabel(\"SC std\")\n",
    "#plt.savefig(\"boxplot_scSTD.png\")\n",
    "plt.show()"
   ]
  },
  {
   "cell_type": "code",
   "execution_count": null,
   "id": "1fd33f9f",
   "metadata": {},
   "outputs": [],
   "source": [
    "print(outliers(\"sc_std\"))"
   ]
  },
  {
   "cell_type": "code",
   "execution_count": null,
   "id": "ca10fc0e",
   "metadata": {},
   "outputs": [],
   "source": [
    "sns.boxplot(x = \"sc_max\", data = df)\n",
    "plt.title(\"SC max\")\n",
    "plt.xlabel(\"SC max\")\n",
    "#plt.savefig(\"boxplot_scMax.png\")\n",
    "plt.show()"
   ]
  },
  {
   "cell_type": "code",
   "execution_count": null,
   "id": "5e4bb845",
   "metadata": {},
   "outputs": [],
   "source": [
    "print(outliers(\"sc_max\"))"
   ]
  },
  {
   "cell_type": "code",
   "execution_count": null,
   "id": "3ae2c8ec",
   "metadata": {},
   "outputs": [],
   "source": [
    "sns.boxplot(x = \"sc_kur\", data = df)\n",
    "plt.title(\"SC kurtosis\")\n",
    "plt.xlabel(\"SC kurtosis\")\n",
    "#plt.savefig(\"boxplot_scKur.png\")\n",
    "plt.show()"
   ]
  },
  {
   "cell_type": "code",
   "execution_count": null,
   "id": "37102575",
   "metadata": {},
   "outputs": [],
   "source": [
    "print(outliers(\"sc_kur\"))"
   ]
  },
  {
   "cell_type": "code",
   "execution_count": null,
   "id": "01a02e9e",
   "metadata": {},
   "outputs": [],
   "source": [
    "sns.boxplot(x = \"sc_skew\", data = df)\n",
    "plt.title(\"SC skewness\")\n",
    "plt.xlabel(\"SC skewness\")\n",
    "#plt.savefig(\"boxplot_scSkew.png\")\n",
    "plt.show()"
   ]
  },
  {
   "cell_type": "code",
   "execution_count": null,
   "id": "20cee263",
   "metadata": {},
   "outputs": [],
   "source": [
    "print(outliers(\"sc_skew\"))"
   ]
  },
  {
   "cell_type": "code",
   "execution_count": null,
   "id": "04ca9540",
   "metadata": {},
   "outputs": [],
   "source": [
    "sns.boxplot(x = \"mfcc_mean\", data = df)\n",
    "plt.title(\"MFCC mean\")\n",
    "plt.xlabel(\"MFCC mean\")\n",
    "#plt.savefig(\"boxplot_mfccMean.png\")\n",
    "plt.show()"
   ]
  },
  {
   "cell_type": "code",
   "execution_count": null,
   "id": "c923f749",
   "metadata": {},
   "outputs": [],
   "source": [
    "print(outliers(\"mfcc_mean\"))"
   ]
  },
  {
   "cell_type": "code",
   "execution_count": null,
   "id": "d5f16b09",
   "metadata": {},
   "outputs": [],
   "source": [
    "sns.boxplot(x = \"mfcc_std\", data = df)\n",
    "plt.title(\"MFCC std\")\n",
    "plt.xlabel(\"MFCC std\")\n",
    "#plt.savefig(\"boxplot_mfccSTD.png\")\n",
    "plt.show()"
   ]
  },
  {
   "cell_type": "code",
   "execution_count": null,
   "id": "5707d714",
   "metadata": {},
   "outputs": [],
   "source": [
    "print(outliers(\"mfcc_std\"))"
   ]
  },
  {
   "cell_type": "code",
   "execution_count": null,
   "id": "b8d88aa8",
   "metadata": {},
   "outputs": [],
   "source": [
    "sns.boxplot(x = \"mfcc_min\", data = df)\n",
    "plt.title(\"MFCC min\")\n",
    "plt.xlabel(\"MFCC min\")\n",
    "#plt.savefig(\"boxplot_mfccMin.png\")\n",
    "plt.show()"
   ]
  },
  {
   "cell_type": "code",
   "execution_count": null,
   "id": "fde4b8f3",
   "metadata": {},
   "outputs": [],
   "source": [
    "print(outliers(\"mfcc_min\"))"
   ]
  },
  {
   "cell_type": "code",
   "execution_count": null,
   "id": "2214ebc3",
   "metadata": {},
   "outputs": [],
   "source": [
    "sns.boxplot(x = \"mfcc_max\", data = df)\n",
    "plt.title(\"MFCC max\")\n",
    "plt.xlabel(\"MFCC max\")\n",
    "#plt.savefig(\"boxplot_mfccMax.png\")\n",
    "plt.show()"
   ]
  },
  {
   "cell_type": "code",
   "execution_count": null,
   "id": "03f41be5",
   "metadata": {},
   "outputs": [],
   "source": [
    "print(outliers(\"mfcc_max\"))"
   ]
  },
  {
   "cell_type": "code",
   "execution_count": null,
   "id": "83c87ece",
   "metadata": {},
   "outputs": [],
   "source": [
    "sns.boxplot(x = \"mean\", data = df)\n",
    "plt.title(\"Mean\")\n",
    "plt.xlabel(\"Mean\")\n",
    "#plt.savefig(\"boxplot_mean.png\")\n",
    "plt.show()"
   ]
  },
  {
   "cell_type": "code",
   "execution_count": null,
   "id": "3e7a03d1",
   "metadata": {},
   "outputs": [],
   "source": [
    "sns.boxplot(x = \"std\", data = df)\n",
    "plt.title(\"Std\")\n",
    "plt.xlabel(\"Std\")\n",
    "#plt.savefig(\"boxplot_STD.png\")\n",
    "plt.show()"
   ]
  },
  {
   "cell_type": "code",
   "execution_count": null,
   "id": "55b6d7fb",
   "metadata": {},
   "outputs": [],
   "source": [
    "print(outliers(\"std\"))"
   ]
  },
  {
   "cell_type": "code",
   "execution_count": null,
   "id": "5dcb1dec",
   "metadata": {},
   "outputs": [],
   "source": [
    "sns.boxplot(x = \"min\", data = df)\n",
    "plt.title(\"Min\")\n",
    "plt.xlabel(\"Min\")\n",
    "#plt.savefig(\"boxplot_min.png\")\n",
    "plt.show()"
   ]
  },
  {
   "cell_type": "code",
   "execution_count": null,
   "id": "ba77277f",
   "metadata": {},
   "outputs": [],
   "source": [
    "print(outliers(\"min\"))"
   ]
  },
  {
   "cell_type": "code",
   "execution_count": null,
   "id": "94f13a59",
   "metadata": {},
   "outputs": [],
   "source": [
    "sns.boxplot(x = \"max\", data = df)\n",
    "plt.title(\"Max\")\n",
    "plt.xlabel(\"Max\")\n",
    "#plt.savefig(\"boxplot_max.png\")\n",
    "plt.show()"
   ]
  },
  {
   "cell_type": "code",
   "execution_count": null,
   "id": "7f0410d7",
   "metadata": {},
   "outputs": [],
   "source": [
    "print(outliers(\"max\"))"
   ]
  },
  {
   "cell_type": "code",
   "execution_count": null,
   "id": "09f1d544",
   "metadata": {},
   "outputs": [],
   "source": [
    "sns.boxplot(x = \"kur\", data = df)\n",
    "plt.title(\"Kurtosis\")\n",
    "plt.xlabel(\"Kurtosis\")\n",
    "#plt.savefig(\"boxplot_kur.png\")\n",
    "plt.show()"
   ]
  },
  {
   "cell_type": "code",
   "execution_count": null,
   "id": "0f283ac5",
   "metadata": {},
   "outputs": [],
   "source": [
    "print(outliers(\"kur\"))"
   ]
  },
  {
   "cell_type": "code",
   "execution_count": null,
   "id": "4201ff18",
   "metadata": {},
   "outputs": [],
   "source": [
    "sns.boxplot(x = \"skew\", data = df)\n",
    "plt.title(\"Skewness\")\n",
    "plt.xlabel(\"Skewness\")\n",
    "#plt.savefig(\"boxplot_skew.png\")\n",
    "plt.show()"
   ]
  },
  {
   "cell_type": "code",
   "execution_count": null,
   "id": "ce447f29",
   "metadata": {},
   "outputs": [],
   "source": [
    "print(outliers(\"skew\"))"
   ]
  },
  {
   "cell_type": "markdown",
   "id": "5e9c3d5c",
   "metadata": {},
   "source": [
    "**Maybe at this point we can calculate outliers for categorical/nominal attributes, which are values that occurs with a frequency extremely lower than the frequency of all other values.**"
   ]
  },
  {
   "cell_type": "markdown",
   "id": "6c4dbac6",
   "metadata": {},
   "source": [
    "# Transformation"
   ]
  },
  {
   "cell_type": "code",
   "execution_count": null,
   "id": "1a4a91d3",
   "metadata": {},
   "outputs": [],
   "source": [
    "df[[\"emotional_intensity\",\"intensity\"]]"
   ]
  },
  {
   "cell_type": "code",
   "execution_count": null,
   "id": "4afb7976",
   "metadata": {},
   "outputs": [],
   "source": [
    "df.sort_values(\"intensity\")[\"intensity\"].dropna()"
   ]
  },
  {
   "cell_type": "code",
   "execution_count": null,
   "id": "792d24d4",
   "metadata": {},
   "outputs": [],
   "source": [
    "sns.scatterplot(x = \"emotional_intensity\", y = \"intensity\", data = df)\n",
    "plt.title(\"Emotional intensity per intensity\")\n",
    "plt.xlabel(\"Emotional intensity\")\n",
    "plt.ylabel(\"Intensity\")\n",
    "#plt.savefig(\"boxplot_EI-intensity.png\")\n",
    "plt.show()"
   ]
  },
  {
   "cell_type": "code",
   "execution_count": null,
   "id": "b4ee7002",
   "metadata": {},
   "outputs": [],
   "source": [
    "sns.scatterplot(x = \"emotional_intensity\", y = \"intensity\", data = df)\n",
    "plt.title(\"Emotional intensity per intensity\")\n",
    "plt.xlabel(\"Emotional intensity\")\n",
    "plt.ylabel(\"Intensity\")\n",
    "#plt.savefig(\"boxplot_EI-intensity.png\")\n",
    "plt.show()"
   ]
  },
  {
   "cell_type": "code",
   "execution_count": null,
   "id": "31012602",
   "metadata": {},
   "outputs": [],
   "source": [
    "def densityPlot(vars):\n",
    "    skew_features = df[vars]\n",
    "    fig, ax = plt.subplots(1,1)\n",
    "    for s in skew_features.columns:\n",
    "        df[s].plot(kind = 'density')\n",
    "    fig.show()"
   ]
  },
  {
   "cell_type": "code",
   "execution_count": null,
   "id": "968c19ea",
   "metadata": {},
   "outputs": [],
   "source": [
    "df['zero_crossings_rate_normalized'] = zscore(df['zero_crossings_rate'])\n",
    "df = df.drop(columns=[\"zero_crossings_rate\"])"
   ]
  },
  {
   "cell_type": "code",
   "execution_count": null,
   "id": "2245c1a6",
   "metadata": {
    "scrolled": false
   },
   "outputs": [],
   "source": [
    "densityPlot([\"zero_crossings_rate_normalized\"])"
   ]
  },
  {
   "cell_type": "code",
   "execution_count": null,
   "id": "0b914c2c",
   "metadata": {},
   "outputs": [],
   "source": [
    "df['sc_mean_normalized'] = zscore(df['sc_mean'])\n",
    "df = df.drop(columns=[\"sc_mean\"])"
   ]
  },
  {
   "cell_type": "code",
   "execution_count": null,
   "id": "723c9486",
   "metadata": {},
   "outputs": [],
   "source": [
    "densityPlot([\"sc_mean_normalized\", \"zero_crossings_rate_normalized\"])"
   ]
  },
  {
   "cell_type": "markdown",
   "id": "2533649b",
   "metadata": {},
   "source": [
    "## Pairwise correlations and eventual elimination of variables"
   ]
  },
  {
   "cell_type": "markdown",
   "id": "f3e066d5",
   "metadata": {},
   "source": [
    "We drop _frame_rate_ column because there is just _length_ that measures the length of audio and of course _frame_rate_ is proportional to _length_."
   ]
  },
  {
   "cell_type": "code",
   "execution_count": null,
   "id": "c9ebf488",
   "metadata": {},
   "outputs": [],
   "source": [
    "df_num = df.copy() # copy of all numerical and ratio-scaled attributes"
   ]
  },
  {
   "cell_type": "code",
   "execution_count": null,
   "id": "59677000",
   "metadata": {},
   "outputs": [],
   "source": [
    "df_num = df_num.drop(columns = [\"vocal_channel\", \"emotion\", \"emotional_intensity\", \"statement\", \"repetition\", \"actor\", \"sex\", \"channels\", \"frame_width\"])\n",
    "df_num.T"
   ]
  },
  {
   "cell_type": "code",
   "execution_count": null,
   "id": "0f48590f",
   "metadata": {},
   "outputs": [],
   "source": [
    "#sns.pairplot(df_num)\n",
    "#plt.savefig(\"pairplot_df_num.png\")\n",
    "#plt.show()"
   ]
  },
  {
   "cell_type": "code",
   "execution_count": null,
   "id": "4a7d5bb7",
   "metadata": {},
   "outputs": [],
   "source": [
    "f = plt.figure(figsize=(19, 15))\n",
    "plt.matshow(df_num.corr(\"spearman\"), fignum=f.number)\n",
    "plt.xticks(range(df_num.select_dtypes(['number']).shape[1]), df_num.select_dtypes(['number']).columns, fontsize=14, rotation=90)\n",
    "plt.yticks(range(df_num.select_dtypes(['number']).shape[1]), df_num.select_dtypes(['number']).columns, fontsize=14)\n",
    "cb = plt.colorbar()\n",
    "cb.ax.tick_params(labelsize=14)\n",
    "plt.title('Correlation Matrix', fontsize=16);"
   ]
  },
  {
   "cell_type": "code",
   "execution_count": null,
   "id": "e679131b",
   "metadata": {},
   "outputs": [],
   "source": [
    "corr = df_num[[\"intensity\", \"mfcc_min\", \"min\"]].corr(\"spearman\")\n",
    "corr.style.background_gradient(cmap='coolwarm')"
   ]
  },
  {
   "cell_type": "code",
   "execution_count": null,
   "id": "2f724ebb",
   "metadata": {},
   "outputs": [],
   "source": [
    "eps = 0.90\n",
    "print(\"CORRELATION > \",eps,\":\")\n",
    "corr = (df_num.corr())\n",
    "for index, row in corr.iterrows():\n",
    "    for k, v in row.items():\n",
    "        if(v > eps and index != k):\n",
    "            print(index, k, corr[index][k])\n",
    "    \n",
    "print(\"\")\n",
    "print(\"CORRELATION < -\",eps,\":\")\n",
    "neg_corr = (df_num.corr())\n",
    "for index, row in neg_corr.iterrows():\n",
    "    for k, v in row.items():\n",
    "        if(v  < -eps and index != k):\n",
    "            print(index, k, v)"
   ]
  },
  {
   "cell_type": "code",
   "execution_count": null,
   "id": "750ed0d6",
   "metadata": {},
   "outputs": [],
   "source": [
    "df_num = df_num.drop(columns=[\"mfcc_min\", \"max\", \"mfcc_std\", \"stft_skew\", \"min\"])"
   ]
  },
  {
   "cell_type": "code",
   "execution_count": null,
   "id": "190e1e4f",
   "metadata": {},
   "outputs": [],
   "source": [
    "df_norm = pd.DataFrame()\n",
    "for v in df_num:\n",
    "    df_norm[v] = zscore(df_num[v].dropna())\n",
    "df_norm"
   ]
  },
  {
   "cell_type": "code",
   "execution_count": null,
   "id": "db968fa2",
   "metadata": {},
   "outputs": [],
   "source": [
    "df_num.describe()"
   ]
  },
  {
   "cell_type": "code",
   "execution_count": null,
   "id": "89b0ead4",
   "metadata": {},
   "outputs": [],
   "source": [
    "desc = df_num.describe()\n",
    "for v in desc:\n",
    "    print(v + \": \"  + str(desc[v][\"75%\"] - desc[v][\"25%\"]))"
   ]
  },
  {
   "cell_type": "markdown",
   "id": "1740b7d0",
   "metadata": {},
   "source": [
    "Treshold > 15: \"mfcc_max\", \"sc_std\", \"sc_min\", \"sc_max\""
   ]
  },
  {
   "cell_type": "code",
   "execution_count": null,
   "id": "f729e03c",
   "metadata": {},
   "outputs": [],
   "source": [
    "#'''\n",
    "df_num[\"intensity_normalized\"] = zscore(df_num[\"intensity\"].dropna())\n",
    "df_num[\"mfcc_mean_normalized\"] = zscore(df_num[\"mfcc_mean\"])\n",
    "df_num[\"mfcc_max_normalized\"] = zscore(df_num[\"mfcc_max\"])\n",
    "df_num[\"sc_std_normalized\"] = zscore(df_num[\"sc_std\"])\n",
    "df_num[\"sc_min_normalized\"] = zscore(df_num[\"sc_min\"])\n",
    "df_num[\"sc_max_normalized\"] = zscore(df_num[\"sc_max\"])\n",
    "df_num[\"stft_min_normalized\"] = zscore(df_num[\"stft_min\"])\n",
    "df_num[\"mean_normalized\"] = zscore(df_num[\"mean\"])\n",
    "df_num[\"std_normalized\"] = zscore(df_num[\"std\"])\n",
    "df_num[\"kur_normalized\"] = zscore(df_num[\"kur\"])\n",
    "df_num = df_num.drop(columns=[\"intensity\", \"mfcc_mean\", \"sc_std\", \"mfcc_max\", \"sc_std\", \"sc_min\", \"sc_max\", \"stft_min\", \"mean\", \"std\", \"kur\"])\n",
    "#'''"
   ]
  },
  {
   "cell_type": "code",
   "execution_count": null,
   "id": "0387f7bc",
   "metadata": {},
   "outputs": [],
   "source": []
  },
  {
   "cell_type": "code",
   "execution_count": null,
   "id": "57a673e5",
   "metadata": {
    "scrolled": false
   },
   "outputs": [],
   "source": [
    "desc = df_norm.describe()\n",
    "for v in desc:\n",
    "    print(v + \": \"  + str(desc[v][\"75%\"] - desc[v][\"25%\"]))"
   ]
  },
  {
   "cell_type": "code",
   "execution_count": null,
   "id": "33f52b77",
   "metadata": {},
   "outputs": [],
   "source": [
    "df_num.T"
   ]
  },
  {
   "cell_type": "markdown",
   "id": "2dfbd56c",
   "metadata": {},
   "source": [
    "## Analysis by centroid-based methods"
   ]
  },
  {
   "cell_type": "markdown",
   "id": "619a1555",
   "metadata": {},
   "source": [
    "### KMeans, Bisecting KMeans"
   ]
  },
  {
   "cell_type": "markdown",
   "id": "70099373",
   "metadata": {},
   "source": [
    "**SSE, KMeans and Bisecting KMeans plot function**"
   ]
  },
  {
   "cell_type": "code",
   "execution_count": null,
   "id": "7acb4279",
   "metadata": {},
   "outputs": [],
   "source": [
    "def drawSSEKMeansPlots (df, column_indices, xlabel, ylabel, variables, nclusters) :\n",
    "    # normalization (zscore)\n",
    "    X = variables.values\n",
    "    scaler = StandardScaler()\n",
    "    scaler.fit(X)\n",
    "    X_scal = scaler.transform(X)\n",
    "    \n",
    "    # SSE plot\n",
    "    sse_list = []\n",
    "    for k in range(2, 18): # 15 centroids\n",
    "        kmeans = KMeans(n_clusters = k, n_init = 10, max_iter = 100)\n",
    "        kmeans.fit(X_scal)\n",
    "        sse_list.append(kmeans.inertia_)\n",
    "    sns.lineplot(x = range(2, 18), y = sse_list, marker = 'o')\n",
    "    plt.title(\"SSE \" + xlabel + ' vs ' + ylabel, fontsize = 15)\n",
    "    plt.xlabel('k (# of initial centroids)')\n",
    "    plt.ylabel('SSE')\n",
    "    plt.show()\n",
    "    \n",
    "    # KMeans plot\n",
    "    kmeans = KMeans(n_clusters = nclusters, n_init = 10, max_iter = 100)\n",
    "    kmeans.fit(X_scal)\n",
    "    centers = kmeans.cluster_centers_\n",
    "    centers = scaler.inverse_transform(centers)\n",
    "    sns.scatterplot(data = df, x = xlabel, y = ylabel, hue = kmeans.labels_, style = kmeans.labels_, palette = \"bright\")\n",
    "    plt.title(\"KMeans \" + xlabel + \" vs \" + ylabel, fontsize = 15)\n",
    "    plt.legend()\n",
    "    plt.scatter(centers[:, 0], centers[:, 1], c = 'black', marker = '*', s = 200)\n",
    "    plt.show()\n",
    "    \n",
    "    # Bisecting KMeans plot\n",
    "    bkmeans = BisectingKMeans(n_clusters = nclusters)\n",
    "    bkmeans.fit(X_scal)\n",
    "    centersbis = bkmeans.cluster_centers_\n",
    "    centersbis = scaler.inverse_transform(centersbis)\n",
    "    sns.scatterplot(data = df, x = xlabel, y = ylabel, hue = bkmeans.labels_, palette = \"bright\", style = bkmeans.labels_)\n",
    "    plt.title(\"Bisecting KMeans \" + xlabel + \" vs \" + ylabel, fontsize = 15)\n",
    "    plt.scatter(centersbis[:, 0], centersbis[:, 1], c = 'black', marker = '*', s = 200)\n",
    "    plt.show()"
   ]
  },
  {
   "cell_type": "code",
   "execution_count": null,
   "id": "50350e31",
   "metadata": {
    "scrolled": false
   },
   "outputs": [],
   "source": [
    "xvar = \"zero_crossings_rate_normalized\" # first attribute\n",
    "yvar = \"sc_mean_normalized\" # second attribute\n",
    "indices = [8, 9] # column indices of attributes\n",
    "nclust = 6 # # of clusters of KMeans and Bisecting KMeans\n",
    "drawSSEKMeansPlots(df_num, indices, xvar, yvar, df_num[[xvar, yvar]], nclust)"
   ]
  },
  {
   "cell_type": "markdown",
   "id": "f110fdd3",
   "metadata": {},
   "source": [
    "According to the SSE plot, in this case six clusters seems to be a good compromise between SSE and number of clusters, because from that point onwards the variation tends to be more linear. The shape of this scatterplot is, more or less, globular. We can see how Bisecting KMeans produces hierarchical clustering compared to KMeans."
   ]
  },
  {
   "cell_type": "code",
   "execution_count": null,
   "id": "c1513feb",
   "metadata": {
    "scrolled": false
   },
   "outputs": [],
   "source": [
    "xvar = \"skew\"\n",
    "yvar = \"length\"\n",
    "indices = [5, 7]\n",
    "nclust = 6\n",
    "drawSSEKMeansPlots(df_num, indices, xvar, yvar, df_num[[xvar, yvar]], nclust)"
   ]
  },
  {
   "cell_type": "markdown",
   "id": "cbf5a067",
   "metadata": {},
   "source": [
    "Also in this case we can see that Bisecting KMeans produces a different clustering, more compact than the KMeans's one which tends to have a Christmas tree shape instead. Also in this case, according to the SSE plot, six clusters seems to be a good choice and the shape of the scatterplot tends to be globular in its boundaries."
   ]
  },
  {
   "cell_type": "code",
   "execution_count": null,
   "id": "bcdd5689",
   "metadata": {},
   "outputs": [],
   "source": [
    "xvar = \"std_normalized\"\n",
    "yvar = \"kur_normalized\"\n",
    "indices = [18, 19]\n",
    "nclust = 5\n",
    "drawSSEKMeansPlots(df_num, indices, xvar, yvar, df_num[[xvar, yvar]], nclust)"
   ]
  },
  {
   "cell_type": "markdown",
   "id": "582d24de",
   "metadata": {},
   "source": [
    "In this case the shape of the scatterplot is non-globular but according to the SSE plot, it seems that five cluster are enough to reach a good compromise. Again, we can notice the difference in clustering between KMeans and Bisecting KMeans."
   ]
  },
  {
   "cell_type": "code",
   "execution_count": null,
   "id": "f59e631a",
   "metadata": {
    "scrolled": false
   },
   "outputs": [],
   "source": [
    "xvar = \"sc_min_normalized\"\n",
    "yvar = \"stft_min_normalized\"\n",
    "indices = [13, 16]\n",
    "nclust = 4\n",
    "drawSSEKMeansPlots(df_num, indices, xvar, yvar, df_num[[xvar, yvar]], nclust)"
   ]
  },
  {
   "cell_type": "markdown",
   "id": "20865a8b",
   "metadata": {},
   "source": [
    "Also here the shape is irregular but four clustering seems to be enough. In Bisecting KMeans the top cluster covers more area than the KMeans's one."
   ]
  },
  {
   "cell_type": "code",
   "execution_count": null,
   "id": "a3664a6b",
   "metadata": {},
   "outputs": [],
   "source": [
    "xvar = \"mfcc_max_normalized\"\n",
    "yvar = \"sc_max_normalized\"\n",
    "indices = [12, 15]\n",
    "nclust = 5\n",
    "drawSSEKMeansPlots(df_num, indices, xvar, yvar, df_num[[xvar, yvar]], nclust)"
   ]
  },
  {
   "cell_type": "markdown",
   "id": "0b209854",
   "metadata": {},
   "source": [
    "# Hierarchical Clustering"
   ]
  },
  {
   "cell_type": "markdown",
   "id": "1d3e2fc3",
   "metadata": {},
   "source": [
    "## Samples"
   ]
  },
  {
   "cell_type": "code",
   "execution_count": null,
   "id": "4f0d2b0d",
   "metadata": {},
   "outputs": [],
   "source": [
    "def plot_dendrogram(model, **kwargs):\n",
    "    # Create linkage matrix and then plot the dendrogram\n",
    "\n",
    "    # create the counts of samples under each node\n",
    "    counts = np.zeros(model.children_.shape[0])\n",
    "    n_samples = len(model.labels_)\n",
    "    for i, merge in enumerate(model.children_):\n",
    "        current_count = 0\n",
    "        for child_idx in merge:\n",
    "            if child_idx < n_samples:\n",
    "                current_count += 1  # leaf node\n",
    "            else:\n",
    "                current_count += counts[child_idx - n_samples]\n",
    "        counts[i] = current_count\n",
    "\n",
    "    linkage_matrix = np.column_stack(\n",
    "        [model.children_, model.distances_, counts]\n",
    "    ).astype(float)\n",
    "\n",
    "    # Plot the corresponding dendrogram\n",
    "    dendrogram(linkage_matrix, **kwargs)"
   ]
  },
  {
   "cell_type": "code",
   "execution_count": null,
   "id": "adf50f74",
   "metadata": {},
   "outputs": [],
   "source": [
    "x_label = \"mfcc_mean\"\n",
    "y_label = \"kur\"\n",
    "\n",
    "train_df = df_norm[[x_label, y_label]]\n",
    "train_set = train_df.values\n",
    "train_set"
   ]
  },
  {
   "cell_type": "code",
   "execution_count": null,
   "id": "79d17b73",
   "metadata": {},
   "outputs": [],
   "source": [
    "plt.scatter(train_df[x_label], train_df[y_label])\n",
    "plt.show()"
   ]
  },
  {
   "cell_type": "code",
   "execution_count": null,
   "id": "4cbff253",
   "metadata": {},
   "outputs": [],
   "source": [
    "dist = pdist(train_set, 'euclidean')\n",
    "dist = squareform(dist)"
   ]
  },
  {
   "cell_type": "code",
   "execution_count": null,
   "id": "19d272ac",
   "metadata": {},
   "outputs": [],
   "source": [
    "# setting distance_threshold=0 ensures we compute the full tree.\n",
    "model = AgglomerativeClustering(distance_threshold=5, n_clusters=None, affinity='euclidean', linkage='complete')\n",
    "model = model.fit(train_set)"
   ]
  },
  {
   "cell_type": "code",
   "execution_count": null,
   "id": "b60ca138",
   "metadata": {},
   "outputs": [],
   "source": [
    "plt.title(\"Hierarchical Clustering Dendrogram\")\n",
    "plot_dendrogram(model, truncate_mode=\"lastp\")\n",
    "plt.xlabel(\"Number of points in node (or index of point if no parenthesis).\")\n",
    "plt.show()"
   ]
  },
  {
   "cell_type": "code",
   "execution_count": null,
   "id": "c7807502",
   "metadata": {},
   "outputs": [],
   "source": [
    "sns.scatterplot(data=df_norm, x=x_label, y=y_label, hue=model.labels_, \n",
    "                style=model.labels_, palette=\"bright\")\n",
    "plt.show()"
   ]
  },
  {
   "cell_type": "markdown",
   "id": "f42b4752",
   "metadata": {},
   "source": [
    "#### Choosing the number of clusters"
   ]
  },
  {
   "cell_type": "code",
   "execution_count": null,
   "id": "03bc5299",
   "metadata": {},
   "outputs": [],
   "source": [
    "model = AgglomerativeClustering(n_clusters=10, affinity='euclidean', linkage='complete')\n",
    "model.fit(train_set)"
   ]
  },
  {
   "cell_type": "code",
   "execution_count": null,
   "id": "fb982aed",
   "metadata": {},
   "outputs": [],
   "source": [
    "sns.scatterplot(data=df_norm, x=x_label, y=y_label, hue=model.labels_, \n",
    "                style=model.labels_, palette=\"bright\")\n",
    "plt.show()"
   ]
  },
  {
   "cell_type": "markdown",
   "id": "1878cfe9",
   "metadata": {},
   "source": [
    "#### Precomputed distance matrix"
   ]
  },
  {
   "cell_type": "code",
   "execution_count": null,
   "id": "fac7a211",
   "metadata": {},
   "outputs": [],
   "source": [
    "sns.scatterplot(data=df_norm, x=x_label, y=y_label, hue=model.labels_, \n",
    "                style=model.labels_, palette=\"bright\")\n",
    "plt.show()"
   ]
  },
  {
   "cell_type": "code",
   "execution_count": null,
   "id": "79b49b16",
   "metadata": {},
   "outputs": [],
   "source": [
    "model = AgglomerativeClustering(n_clusters=20, affinity='precomputed', linkage='complete')\n",
    "model.fit(dist)"
   ]
  },
  {
   "cell_type": "code",
   "execution_count": null,
   "id": "de20f835",
   "metadata": {},
   "outputs": [],
   "source": [
    "sns.scatterplot(data=df_norm, x=x_label, y=y_label, hue=model.labels_, \n",
    "                style=model.labels_, palette=\"bright\")\n",
    "plt.show()"
   ]
  },
  {
   "cell_type": "markdown",
   "id": "dd995045",
   "metadata": {},
   "source": [
    "## Real Use"
   ]
  },
  {
   "cell_type": "code",
   "execution_count": null,
   "id": "a0612182",
   "metadata": {
    "scrolled": true
   },
   "outputs": [],
   "source": [
    " #linkage{‘ward’, ‘complete’, ‘average’, ‘single’}\n",
    "def allHierarchicalClusters(datas, t = \"scatterplot\", linkage=\"complete\"):\n",
    "    pairs = []\n",
    "    for c1 in datas:\n",
    "        for c2 in datas:\n",
    "            if(c1 != c2 and (not (pairs.count(c1 + \" \" + c2) > 0 or pairs.count(c2 + \" \" + c1) > 0))):\n",
    "                pairs.append(c1 + \" \" + c2)\n",
    "\n",
    "                x_label = c1\n",
    "                y_label = c2\n",
    "\n",
    "                train_df = datas[[x_label, y_label]]\n",
    "                train_set = train_df.values\n",
    "\n",
    "                model = AgglomerativeClustering(distance_threshold=5, n_clusters=None, affinity='euclidean', linkage=linkage)\n",
    "                model = model.fit(train_set)\n",
    "\n",
    "                if(t ==\"dendrogram\"):\n",
    "                    plt.title(\"Hierarchical Clustering Dendrogram\")\n",
    "                    plot_dendrogram(model, truncate_mode=\"lastp\")\n",
    "                    plt.xlabel(\"Number of points in node (or index of point if no parenthesis).\")\n",
    "                    plt.show()\n",
    "                else:\n",
    "                    sns.scatterplot(data=datas, x=x_label, y=y_label, hue=model.labels_, \n",
    "                    style=model.labels_, palette=\"bright\")\n",
    "                    plt.show()\n",
    "#print(\"N: \" + str(len(datas.columns)) + \" Pairs: \" + str(len(pairs)))\n",
    "#print(pairs)"
   ]
  },
  {
   "cell_type": "code",
   "execution_count": null,
   "id": "3981f17f",
   "metadata": {
    "scrolled": false
   },
   "outputs": [],
   "source": [
    "allHierarchicalClusters(df_norm.drop(columns=[\"emotion_positivity\"]), \"scatterplot\", \"ward\")"
   ]
  },
  {
   "cell_type": "code",
   "execution_count": null,
   "id": "c83936cc",
   "metadata": {},
   "outputs": [],
   "source": []
  }
 ],
 "metadata": {
  "kernelspec": {
   "display_name": "Python 3 (ipykernel)",
   "language": "python",
   "name": "python3"
  },
  "language_info": {
   "codemirror_mode": {
    "name": "ipython",
    "version": 3
   },
   "file_extension": ".py",
   "mimetype": "text/x-python",
   "name": "python",
   "nbconvert_exporter": "python",
   "pygments_lexer": "ipython3",
   "version": "3.9.12"
  }
 },
 "nbformat": 4,
 "nbformat_minor": 5
}
