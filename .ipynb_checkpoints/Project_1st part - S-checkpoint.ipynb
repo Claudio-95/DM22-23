{
 "cells": [
  {
   "cell_type": "markdown",
   "id": "43994dfe",
   "metadata": {},
   "source": [
    "To understand first each variable, let's review some audio concepts:\n",
    "\n",
    "The Ryerson Audio-Visual database of Emotional Speech and Song has the following variables: \n",
    "A **sample** of an audio is a portion of an audio's wave in certain (small) interval.\n",
    "\n",
    "The **sample rate** is the number of samples taken per second. This is a frequency and it is measured in kilohertz (kHz). Remember that the more often you take samples of the original audio, the closer to the original you can get.\n",
    "\n",
    "For understanding the difference between sample and frame take into consideration these formulas:\n",
    "\n",
    "* Sample rate = number of samples / second\n",
    "* Frame = 1 sample from each channel (PCM)\n",
    "* Frame Size = Sample size * Channels\n",
    "* Frame Rate = frames / second\n",
    "\n",
    "For PCM, which is a digital representation of an analog signal, the sample rate and the frame rate are the same since a frame consists of a a sample from each channel.\n",
    "\n",
    "The sample size is the size of an individual sample, also called **Bit Depth** or **Sample Width**, and it indicates how many bits of information a sample contains. (This is one important factor in the quality/resolution of the audio).\n",
    "\n",
    "An **audio channel** is the path via a signal or data is delivered, i.e, it's where a sound signal is conveyed from the player source to the speaker. For one channel we talk about **mono**, and several channels we refer to **stereo**.  For instance, in stereo sound, there are two audio sources: one speaker on the left, and one on the right. Each of these is represented by one channel.\n",
    "\n",
    "An **audio frame** is a data record that contains the samples of all the channels available in an audio signal to the same point in time.\n",
    "\n",
    "The **zero-crossing rate** is the rate at which a signal changes from positive to zero or negative, and from negative to zero or positive. It's a measure of the smoothness of the signal. The zero-crossing rate can be utilized as a basic pitch detection algorithm for monophonic tonal signals and is a key feature to classify percussive sounds.\n",
    "\n",
    "**Mel-Frequency Cepstral Coefficients** is a small set of features (usually about 10-20) which concisely describe the overall shape of a spectral envelope.\n",
    "\n",
    "**Spectral Centroid** indicates where the center of mass of the spectrum is located, and it is a good predictor of the 'brightness' of a sound, which depends on distribution of total power between high and low frequencies. Also can be seen as the amplitude-weighted mean of several frequency components.\n",
    "\n",
    "**stft chromagram**: applying the Fourier transform, which is used to convert a time-dependent signal to a frequency-dependent signal, to local sections of an audio signal, one obtains the short-time Fourier transform (STFT). The Chroma feature or chromagram of an audio represents the intensity of the twelve distinctive pitch classes that are used to study music.\n",
    "\n",
    "* 'Modality': media file types (audio-only).\n",
    "* 'Actor' and 'Sex': corresponding identifier of the actor (01 to 24) and its sex (M of F).\n",
    "* 'statement': phrase repeated by the actors (\"Kids are talking by the door\", \"Dogs are sitting by the door\").\n",
    "* 'repetition': number of repetitions (1st repetition, 2nd repetition).\n",
    "* 'vocal chanel': type of channel (speech or song).\n",
    "* 'Emotion': the emotion of the speaker (neutral, calm, happy, sad, angry, fearful, disgust, surprised).\n",
    "* 'Emotional intensity': level of emotion of each expression (normal, strong). NOTE: There is no strong intensity for the 'neutral' emotion.\n",
    "* sample_width: number of bytes of storage needed to save the sample (1 means 8-bit, 2 means 16-bit).\n",
    "* frame_rate: frequency of samples used (in Hertz).\n",
    "* frame_width: Number of bytes for each frame. One frame contains a sample for each channel.\n",
    "* length_ms: audio file length in milliseconds.\n",
    "* frame_count: number of frames from the sample.\n",
    "* intensity: loudness in dBFS, which is dB relative to the maximum possible loudness.\n",
    "* zero_crossings_sum: sum of the zero-crossing rate.\n",
    "* 'mean', 'std', 'min', 'max', 'kur', 'skew': statistics of the original audio signal.\n",
    "* mfcc_ 'mean', 'std', 'min', 'max': statistics of the Mel-Frequency Cepstral Coefficients.\n",
    "* sc_ 'mean', 'std', 'min', 'max', 'kur', 'skew': statistics of the spectral centroid.\n",
    "* stft_ 'mean', 'std', 'min', 'max', 'kur', 'skew': statistics of the stft chromagram.\n",
    "\n",
    "Measures to understand the shape of the data:\n",
    "**Skewness** (skew) measures the symmetry of the distribution\n",
    "\n",
    "**Kurtosis** (kur) measures the heaviness of the distribution tails, i.e., provides an indication of the presence of outliers."
   ]
  },
  {
   "cell_type": "markdown",
   "id": "621cc4ee",
   "metadata": {},
   "source": [
    "### Data semantics"
   ]
  },
  {
   "cell_type": "markdown",
   "id": "38eb4c41",
   "metadata": {},
   "source": [
    "## Classification of the variables**\n",
    "* **Nominal/Categorical:** actor, sex, modality, statement, repetition, vocal channel.\n",
    "* **Ordinal:**  emotional intensity - Emotion \n",
    "* **Numeric:**   ; .\n",
    "\n",
    "\n",
    "\n",
    "* **Ratio-Scaled:** lenght_ms, zero_crossing_sum; frame_rate, width;\n",
    "sample_width\n",
    "stft_mean, stft_std, stft_min, stft_max, stft_kur, stft_skew\n",
    "sc_mean, sc_std, sc_min, sc_max, sc_kur, sc_skew\n",
    "mfcc_mean, mfcc_std, mfcc_min, mfcc_max, mfcc_kur, mfcc_skew\n",
    "'std', 'min', 'max', 'kur', 'skew"
   ]
  },
  {
   "cell_type": "markdown",
   "id": "ae6b35f6",
   "metadata": {},
   "source": [
    "The classification of variables depends on the real data?\n",
    "what it means the caracteristic of the variables? Is just the classification and the domain?\n",
    "For emotion, is it nomial or ordinal? what about partial ordered sets?"
   ]
  },
  {
   "cell_type": "markdown",
   "id": "57c0b965",
   "metadata": {},
   "source": [
    "Possible tuples of features we can analyze:\n",
    "\n",
    "* EI with SW (sample width, I don't know if it does make sense, SW has always 2 as value)\n",
    "\n",
    "\n",
    "**Distributions in Claudio's notebook**:\n",
    "* emotion x sex (s/c)\n",
    "* emotion x intensity (box plot)\n",
    "* emotion (pie chart - histo)\n",
    "* audio length (hist)\n",
    "* vocal channel x sex (stacked chart)\n",
    "* sex with  emotional intensity (EI)\n",
    "* SW - Frame Width (it doesn't make sense, SW has always the same value and frame width has almost always the same value)\n",
    "* Frame rate - ZC (it doesn't make sense, frame rate has always the same value)\n",
    "* Frame count - ZC\n",
    "* Length_ms - Frame count\n",
    "* EI with statement (stat), length, intensity (I), Zero-crossing sum (ZC)\n",
    "\n",
    "**Tasks for next meeting**\n",
    "1. To understand the meaning of each variable.\n",
    "2. To think about the characteristics of each variable, for instance _what does it means that a sc_skew is higher or smaller than the others?_\n",
    "3. If you have time, to think about the statistical analysis we can associate to pairs of variables.\n"
   ]
  },
  {
   "cell_type": "code",
   "execution_count": null,
   "id": "5b791efc",
   "metadata": {},
   "outputs": [],
   "source": []
  }
 ],
 "metadata": {
  "kernelspec": {
   "display_name": "Python 3 (ipykernel)",
   "language": "python",
   "name": "python3"
  },
  "language_info": {
   "codemirror_mode": {
    "name": "ipython",
    "version": 3
   },
   "file_extension": ".py",
   "mimetype": "text/x-python",
   "name": "python",
   "nbconvert_exporter": "python",
   "pygments_lexer": "ipython3",
   "version": "3.9.12"
  }
 },
 "nbformat": 4,
 "nbformat_minor": 5
}
