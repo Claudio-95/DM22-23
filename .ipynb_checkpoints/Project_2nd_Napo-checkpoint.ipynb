{
 "cells": [
  {
   "cell_type": "code",
   "execution_count": 1,
   "id": "eb026965",
   "metadata": {},
   "outputs": [
    {
     "ename": "ModuleNotFoundError",
     "evalue": "No module named 'scikitplot'",
     "output_type": "error",
     "traceback": [
      "\u001b[0;31m---------------------------------------------------------------------------\u001b[0m",
      "\u001b[0;31mModuleNotFoundError\u001b[0m                       Traceback (most recent call last)",
      "Input \u001b[0;32mIn [1]\u001b[0m, in \u001b[0;36m<cell line: 15>\u001b[0;34m()\u001b[0m\n\u001b[1;32m     13\u001b[0m \u001b[38;5;28;01mfrom\u001b[39;00m \u001b[38;5;21;01msklearn\u001b[39;00m\u001b[38;5;21;01m.\u001b[39;00m\u001b[38;5;21;01mnaive_bayes\u001b[39;00m \u001b[38;5;28;01mimport\u001b[39;00m GaussianNB, CategoricalNB\n\u001b[1;32m     14\u001b[0m \u001b[38;5;66;03m# plot things\u001b[39;00m\n\u001b[0;32m---> 15\u001b[0m \u001b[38;5;28;01mfrom\u001b[39;00m \u001b[38;5;21;01mscikitplot\u001b[39;00m\u001b[38;5;21;01m.\u001b[39;00m\u001b[38;5;21;01mmetrics\u001b[39;00m \u001b[38;5;28;01mimport\u001b[39;00m plot_roc\n\u001b[1;32m     16\u001b[0m \u001b[38;5;28;01mfrom\u001b[39;00m \u001b[38;5;21;01mscikitplot\u001b[39;00m\u001b[38;5;21;01m.\u001b[39;00m\u001b[38;5;21;01mmetrics\u001b[39;00m \u001b[38;5;28;01mimport\u001b[39;00m plot_precision_recall\n\u001b[1;32m     17\u001b[0m \u001b[38;5;28;01mfrom\u001b[39;00m \u001b[38;5;21;01mscikitplot\u001b[39;00m\u001b[38;5;21;01m.\u001b[39;00m\u001b[38;5;21;01mmetrics\u001b[39;00m \u001b[38;5;28;01mimport\u001b[39;00m plot_cumulative_gain, plot_lift_curve\n",
      "\u001b[0;31mModuleNotFoundError\u001b[0m: No module named 'scikitplot'"
     ]
    }
   ],
   "source": [
    "import pandas as pd\n",
    "import numpy as np\n",
    "import matplotlib.pyplot as plt\n",
    "import seaborn as sns\n",
    "# zscore\n",
    "from scipy.stats import zscore\n",
    "# scaling, normalization\n",
    "from sklearn.preprocessing import StandardScaler, MinMaxScaler\n",
    "from sklearn.metrics import *\n",
    "# partitioning\n",
    "from sklearn.model_selection import train_test_split\n",
    "# naive bayes\n",
    "from sklearn.naive_bayes import GaussianNB, CategoricalNB\n",
    "# plot things\n",
    "from scikitplot.metrics import plot_roc\n",
    "from scikitplot.metrics import plot_precision_recall\n",
    "from scikitplot.metrics import plot_cumulative_gain, plot_lift_curve"
   ]
  },
  {
   "cell_type": "code",
   "execution_count": null,
   "id": "553f35b3",
   "metadata": {},
   "outputs": [],
   "source": [
    "df = pd.read_csv(\"ravdess_features.csv\")"
   ]
  },
  {
   "cell_type": "markdown",
   "id": "25fcaa44",
   "metadata": {},
   "source": [
    "## Classification"
   ]
  },
  {
   "cell_type": "markdown",
   "id": "1e734296",
   "metadata": {},
   "source": [
    "### Choice of attributes"
   ]
  },
  {
   "cell_type": "markdown",
   "id": "da056df0",
   "metadata": {},
   "source": [
    "Each of us select a classification method and then select two variables, one to be classified by ourselves and one to be compared with the other methods, as clustering.\n",
    "Classification methods:\n",
    "\n",
    "* Naive Bayes - Claudio\n",
    "* kNN - Andrea\n",
    "* Decision trees - Steffania\n",
    "\n",
    "Possible variables:\n",
    "\n",
    "* Categorical: emotion, sex\n",
    "* Numerical: intensity"
   ]
  },
  {
   "cell_type": "markdown",
   "id": "f1b7fd51",
   "metadata": {},
   "source": [
    "## Partitioning"
   ]
  },
  {
   "cell_type": "code",
   "execution_count": null,
   "id": "f51f2b56",
   "metadata": {},
   "outputs": [],
   "source": [
    "df_num = df.drop(columns = [\"modality\", \"vocal_channel\", \"emotional_intensity\", \"statement\", \"repetition\", \"actor\", \"channels\", \"frame_width\"]).dropna()\n",
    "df_num.T"
   ]
  },
  {
   "cell_type": "code",
   "execution_count": null,
   "id": "1260255c",
   "metadata": {},
   "outputs": [],
   "source": [
    "y = np.array(df_num[\"emotion\"]) # <--- this is the variable prediction parameter\n",
    "categorical_cols = [\"emotion\", \"sex\"]\n",
    "df_num = pd.get_dummies(df_num, columns=categorical_cols)\n",
    "X = df_num.values\n",
    "X_train, X_test, y_train, y_test = train_test_split(\n",
    "    X, y, test_size=0.3, random_state=0\n",
    ")"
   ]
  },
  {
   "cell_type": "code",
   "execution_count": null,
   "id": "17c77a84",
   "metadata": {},
   "outputs": [],
   "source": [
    "# without stratify\n",
    "print(np.unique(y, return_counts=True)[1] / len(y))\n",
    "print(np.unique(y_train, return_counts=True)[1] / len(y_train))\n",
    "print(np.unique(y_test, return_counts=True)[1] / len(y_test))"
   ]
  },
  {
   "cell_type": "code",
   "execution_count": null,
   "id": "cecd679b",
   "metadata": {},
   "outputs": [],
   "source": [
    "# with stratify\n",
    "print(np.unique(y, return_counts=True)[1] / len(y))\n",
    "print(np.unique(y_train, return_counts=True)[1] / len(y_train))\n",
    "print(np.unique(y_test, return_counts=True)[1] / len(y_test))"
   ]
  },
  {
   "cell_type": "code",
   "execution_count": null,
   "id": "03c6d969",
   "metadata": {},
   "outputs": [],
   "source": [
    "print(X_train.shape, X_test.shape, y_train.shape, y_test.shape)"
   ]
  },
  {
   "cell_type": "markdown",
   "id": "941a7eee",
   "metadata": {},
   "source": [
    "### Naive Bayes"
   ]
  },
  {
   "cell_type": "code",
   "execution_count": null,
   "id": "e37565b1",
   "metadata": {
    "scrolled": false
   },
   "outputs": [],
   "source": [
    "clf = GaussianNB()\n",
    "clf.fit(X_train, y_train)\n",
    "y_pred = clf.predict(X_test)\n",
    "print(classification_report(y_test, y_pred))"
   ]
  },
  {
   "cell_type": "markdown",
   "id": "703ba43a",
   "metadata": {},
   "source": [
    "Low reliability of the model for the _emotion_ prediction."
   ]
  },
  {
   "cell_type": "code",
   "execution_count": null,
   "id": "f61c8e7a",
   "metadata": {
    "scrolled": true
   },
   "outputs": [],
   "source": [
    "clf.predict_proba(X_test)"
   ]
  },
  {
   "cell_type": "code",
   "execution_count": null,
   "id": "9c5709a4",
   "metadata": {},
   "outputs": [],
   "source": [
    "# https://scikit-learn.org/stable/auto_examples/model_selection/plot_roc.html\n",
    "plot_roc(y_test, clf.predict_proba(X_test))\n",
    "plt.show()\n",
    "print(roc_auc_score(y_test, clf.predict_proba(X_test), multi_class=\"ovr\", average=\"macro\"))"
   ]
  },
  {
   "cell_type": "markdown",
   "id": "da2d3168",
   "metadata": {},
   "source": [
    "#### Categorical"
   ]
  },
  {
   "cell_type": "code",
   "execution_count": null,
   "id": "2d6bb4b7",
   "metadata": {},
   "outputs": [],
   "source": [
    "non_cat_columns = [\n",
    "    \"intensity\",\n",
    "    \"zero_crossings_sum\",\n",
    "    \"length_ms\",\n",
    "    \"frame_count\",\n",
    "    #\"sample_width\",\n",
    "    #\"frame_rate\",\n",
    "    \"mfcc_mean\",\n",
    "    \"mfcc_min\",\n",
    "    \"mfcc_max\",\n",
    "    \"mfcc_std\",\n",
    "    \"sc_mean\",\n",
    "    #\"sc_min\",\n",
    "    \"sc_max\",\n",
    "    \"sc_std\",\n",
    "    \"sc_kur\",\n",
    "    \"sc_skew\",\n",
    "    \"stft_mean\",\n",
    "    #\"stft_min\",\n",
    "    #\"stft_max\",\n",
    "    \"stft_std\",\n",
    "    \"stft_kur\",\n",
    "    \"stft_skew\",\n",
    "    \"mean\",\n",
    "    \"std\",\n",
    "    \"min\",\n",
    "    \"max\",\n",
    "    \"skew\",\n",
    "    \"kur\"\n",
    "]\n",
    "\n",
    "X_noncat = df_num[non_cat_columns].values\n",
    "\n",
    "X_train_noncat, X_test_noncat, y_train_noncat, y_test_noncat = train_test_split(\n",
    "    X_noncat, y, test_size=0.3, stratify=y, random_state=0\n",
    ")\n",
    "\n",
    "# train and test set should be binned separately\n",
    "X_train_cat = list()\n",
    "for column_idx in range(X_train_noncat.shape[1]):\n",
    "    X_train_cat.append(pd.qcut(X_train_noncat[:, column_idx], q=4, labels=False))\n",
    "X_train_cat = np.array(X_train_cat).T\n",
    "\n",
    "X_test_cat = list()\n",
    "for column_idx in range(X_test_noncat.shape[1]):\n",
    "    X_test_cat.append(pd.qcut(X_test_noncat[:, column_idx], q=4, labels=False))\n",
    "X_test_cat = np.array(X_test_cat).T\n",
    "\n",
    "print(X_train_cat.shape, X_test_cat.shape)"
   ]
  },
  {
   "cell_type": "code",
   "execution_count": null,
   "id": "cd97e7df",
   "metadata": {},
   "outputs": [],
   "source": [
    "clf = CategoricalNB()\n",
    "clf.fit(X_train_cat, y_train_noncat)\n",
    "y_pred = clf.predict(X_test_cat)\n",
    "print(classification_report(y_test, y_pred))"
   ]
  },
  {
   "cell_type": "markdown",
   "id": "6c791f3f",
   "metadata": {},
   "source": [
    "Very low reliability as regards the prediction of _emotion_ on the Categorical."
   ]
  }
 ],
 "metadata": {
  "kernelspec": {
   "display_name": "Python 3 (ipykernel)",
   "language": "python",
   "name": "python3"
  },
  "language_info": {
   "codemirror_mode": {
    "name": "ipython",
    "version": 3
   },
   "file_extension": ".py",
   "mimetype": "text/x-python",
   "name": "python",
   "nbconvert_exporter": "python",
   "pygments_lexer": "ipython3",
   "version": "3.9.12"
  }
 },
 "nbformat": 4,
 "nbformat_minor": 5
}
