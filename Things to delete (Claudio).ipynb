{
 "cells": [
  {
   "cell_type": "markdown",
   "id": "bb56207b",
   "metadata": {},
   "source": [
    "Graphics we can delete:\n",
    "* MFCC, SC and STFT statistics;\n",
    "* In NaN values section, the 0 values sum;\n",
    "* emotion_sex stacked chart;\n",
    "* emotion_sex bar chart;\n",
    "* vocal_channel stacked chart;\n",
    "* emoInt_sex stacked chart;\n",
    "* EI_stat stacked chart;\n",
    "* Emotional intensity and length box plot;\n",
    "* Emotional intensity and intensity box plot;\n",
    "* Emotion histogram;\n",
    "* em_intensity_em stacked chart;\n",
    "* em_stat stacked chart and _statement_ transformation;\n",
    "* em_sex stacked chart;\n",
    "* max_features line plot;\n",
    "* emotional_intensity and intensity scatter plot.\n",
    "\n",
    "Also we can delete _mean_ variable because the difference between entries is in the order of 7th decimal position."
   ]
  }
 ],
 "metadata": {
  "kernelspec": {
   "display_name": "Python 3 (ipykernel)",
   "language": "python",
   "name": "python3"
  },
  "language_info": {
   "codemirror_mode": {
    "name": "ipython",
    "version": 3
   },
   "file_extension": ".py",
   "mimetype": "text/x-python",
   "name": "python",
   "nbconvert_exporter": "python",
   "pygments_lexer": "ipython3",
   "version": "3.9.7"
  }
 },
 "nbformat": 4,
 "nbformat_minor": 5
}
